{
 "cells": [
  {
   "cell_type": "markdown",
   "metadata": {},
   "source": [
    "# MLVOT: Pratical Work 2"
   ]
  },
  {
   "cell_type": "markdown",
   "metadata": {},
   "source": [
    "**Objective**: Develop a simple IoU-based tracker without using image information. Extend the algorithm to\n",
    "handle multiple object tracking simultaneously."
   ]
  },
  {
   "cell_type": "code",
   "execution_count": 15,
   "metadata": {},
   "outputs": [],
   "source": [
    "DATA_DIR = \"ADL-Rundle-6\"\n",
    "import os\n",
    "import pandas as pd\n",
    "import numpy as np\n",
    "import matplotlib.pyplot as plt\n",
    "import cv2\n",
    "from PIL import Image\n",
    "from tqdm import tqdm\n",
    "import argparse\n",
    "import imageio\n",
    "import itertools\n",
    "from src.iou import BoundingBox, intersection_box, iou"
   ]
  },
  {
   "cell_type": "code",
   "execution_count": 23,
   "metadata": {},
   "outputs": [],
   "source": [
    "BOUNDING_BOX_DIR = \"ADL-Rundle-6/bounding_boxes\"\n",
    "IMG_DIR = \"ADL-Rundle-6/img1\"\n",
    "IMG_FILE_LIST = sorted(os.listdir(IMG_DIR))"
   ]
  },
  {
   "cell_type": "markdown",
   "metadata": {},
   "source": [
    "## 1 \n",
    "Load detections (det) stored in a MOT-challenge like formatted text file. Each line represents one object\n",
    "instance and contains 10 values (fieldNames = [\\<frame\\>, <id>, <bb_left>, <bb_top>, <bb_width>,\n",
    "<bb_height>, <conf>, <x>, <y>, <z>]\n"
   ]
  },
  {
   "cell_type": "code",
   "execution_count": 24,
   "metadata": {},
   "outputs": [],
   "source": [
    "det_file = (\n",
    "    \"ADL-Rundle-6/det/det.txt\"\n",
    "    if os.path.exists(\"ADL-Rundle-6/det/clean_det.csv\")\n",
    "    else \"ADL-Rundle-6/det/det.txt\"\n",
    ")\n",
    "\n",
    "\n",
    "def load_det_file(det_file):\n",
    "    if not os.path.exists(\"ADL-Rundle-6/det/clean_det.csv\"):\n",
    "        det_df = pd.read_csv(det_file, sep=\",\", header=None)\n",
    "        det_df.columns = [\n",
    "            \"frame\",\n",
    "            \"id\",\n",
    "            \"bb_left\",\n",
    "            \"bb_top\",\n",
    "            \"bb_width\",\n",
    "            \"bb_height\",\n",
    "            \"conf\",\n",
    "            \"x\",\n",
    "            \"y\",\n",
    "            \"z\",\n",
    "        ]\n",
    "        det_df.to_csv(\"ADL-Rundle-6/det/clean_det.csv\", index=False)\n",
    "    else:\n",
    "        det_df = pd.read_csv(\"ADL-Rundle-6/det/clean_det.csv\", sep=\",\", header=0)\n",
    "    return det_df\n",
    "\n",
    "\n",
    "det_df = load_det_file(det_file)"
   ]
  },
  {
   "cell_type": "markdown",
   "metadata": {},
   "source": [
    "## 2 Implement IoU for tracking"
   ]
  },
  {
   "cell_type": "markdown",
   "metadata": {},
   "source": [
    "- Compute similarity score using the Jaccard index (intersection-over-union) for each pair of\n",
    "bounding boxes"
   ]
  },
  {
   "cell_type": "markdown",
   "metadata": {},
   "source": [
    "Jacard index between 2 bounding boxes is implemented in [this script](./src/iou.py)"
   ]
  },
  {
   "cell_type": "code",
   "execution_count": null,
   "metadata": {},
   "outputs": [],
   "source": []
  },
  {
   "cell_type": "code",
   "execution_count": 28,
   "metadata": {},
   "outputs": [
    {
     "name": "stderr",
     "output_type": "stream",
     "text": [
      "525it [00:01, 320.93it/s]\n"
     ]
    }
   ],
   "source": [
    "def iou_tracking(\n",
    "    det_df,\n",
    "    img_file_list=IMG_FILE_LIST,\n",
    "    threshold=0.5,\n",
    "    save_gif=False,\n",
    "    csv_file=\"ADL-Rundle-6/det/restults.csv\",\n",
    "):\n",
    "    cur_id = 0\n",
    "    for n_frame, img_file in tqdm(enumerate(img_file_list, start=1)):\n",
    "        frame_data = det_df[det_df[\"frame\"] == n_frame]\n",
    "        next_frame_data = det_df[det_df[\"frame\"] == n_frame + 1]\n",
    "        for i, row1 in enumerate(frame_data.index):\n",
    "            for j, row2 in enumerate(next_frame_data.index):\n",
    "                bb1 = BoundingBox(\n",
    "                    frame_data[\"bb_left\"][row1],\n",
    "                    frame_data[\"bb_top\"][row1],\n",
    "                    frame_data[\"bb_width\"][row1],\n",
    "                    frame_data[\"bb_height\"][row1],\n",
    "                )\n",
    "                bb2 = BoundingBox(\n",
    "                    next_frame_data[\"bb_left\"][row2],\n",
    "                    next_frame_data[\"bb_top\"][row2],\n",
    "                    next_frame_data[\"bb_width\"][row2],\n",
    "                    next_frame_data[\"bb_height\"][row2],\n",
    "                )\n",
    "                iou_score = iou(bb1, bb2)\n",
    "\n",
    "                if det_df.loc[row1, \"id\"] == -1:\n",
    "                    det_df.loc[row1, \"id\"] = cur_id\n",
    "                    cur_id += 1\n",
    "                if iou_score >= threshold:\n",
    "                    det_df.loc[row2, \"id\"] = det_df.loc[row1, \"id\"]\n",
    "\n",
    "    det_df.to_csv(csv_file, index=False)\n",
    "\n",
    "\n",
    "iou_tracking(\n",
    "    det_df,\n",
    "    csv_file=\"ADL-Rundle-6/det/restults.csv\",\n",
    "    threshold=0.5,\n",
    "    img_file_list=IMG_FILE_LIST,\n",
    ")"
   ]
  },
  {
   "cell_type": "code",
   "execution_count": 29,
   "metadata": {},
   "outputs": [],
   "source": [
    "def update_gif(opencv_img, row1, bb1, img_file):\n",
    "    cv2.rectangle(\n",
    "        opencv_img,\n",
    "        (int(bb1.bb_left), int(bb1.bb_top)),\n",
    "        (\n",
    "            int(bb1.bb_left + bb1.bb_width),\n",
    "            int(bb1.bb_top + bb1.bb_height),\n",
    "        ),\n",
    "        (0, 0, 255),\n",
    "        2,\n",
    "    )\n",
    "    cv2.putText(\n",
    "        opencv_img,\n",
    "        str(det_df.loc[row1, \"id\"]),\n",
    "        (int(bb1.bb_left), int(bb1.bb_top)),\n",
    "        cv2.FONT_HERSHEY_SIMPLEX,\n",
    "        1,\n",
    "        (0, 0, 255),\n",
    "        2,\n",
    "        cv2.LINE_AA,\n",
    "    )\n",
    "    cv2.imwrite(\n",
    "        os.path.join(BOUNDING_BOX_DIR, img_file),\n",
    "        opencv_img,\n",
    "    )"
   ]
  },
  {
   "cell_type": "code",
   "execution_count": 30,
   "metadata": {},
   "outputs": [
    {
     "name": "stderr",
     "output_type": "stream",
     "text": [
      "10it [00:01,  7.96it/s]\n"
     ]
    },
    {
     "name": "stdout",
     "output_type": "stream",
     "text": [
      "Generating gif...\n"
     ]
    },
    {
     "name": "stderr",
     "output_type": "stream",
     "text": [
      "  0%|          | 0/10 [00:00<?, ?it/s]/tmp/ipykernel_30561/2065052759.py:24: DeprecationWarning: Starting with ImageIO v3 the behavior of this function will switch to that of iio.v3.imread. To keep the current behavior (and make this warning disappear) use `import imageio.v2 as imageio` or call `imageio.v2.imread` directly.\n",
      "  images.append(imageio.imread(os.path.join(BOUNDING_BOX_DIR, filename)))\n",
      "100%|██████████| 10/10 [00:00<00:00, 56.06it/s]\n"
     ]
    },
    {
     "name": "stdout",
     "output_type": "stream",
     "text": [
      "Gif saved at ADL-Rundle-6/bounding_boxes.gif\n"
     ]
    }
   ],
   "source": [
    "def generate_gif(\n",
    "    result_csv=\"ADL-Rundle-6/det/restults.csv\",\n",
    "    img_file_list=IMG_FILE_LIST,\n",
    "    gif_file=\"ADL-Rundle-6/bounding_boxes.gif\",\n",
    "    nb_frames=10,\n",
    "):\n",
    "    df = pd.read_csv(result_csv, sep=\",\", header=0)\n",
    "    img_file_list = img_file_list[:nb_frames]\n",
    "    for n_frame, img_file in tqdm(enumerate(img_file_list, start=1)):\n",
    "        res_df = df[df[\"frame\"] == n_frame]\n",
    "        opencv_img = cv2.imread(os.path.join(IMG_DIR, img_file))\n",
    "        for row1 in res_df.index:\n",
    "            bb1 = BoundingBox(\n",
    "                res_df[\"bb_left\"][row1],\n",
    "                res_df[\"bb_top\"][row1],\n",
    "                res_df[\"bb_width\"][row1],\n",
    "                res_df[\"bb_height\"][row1],\n",
    "            )\n",
    "            update_gif(opencv_img, row1, bb1, img_file)\n",
    "    images = []\n",
    "    print(\"Generating gif...\")\n",
    "    bounded_box_files = sorted(os.listdir(BOUNDING_BOX_DIR))[:nb_frames]\n",
    "    for filename in tqdm(bounded_box_files):\n",
    "        images.append(imageio.imread(os.path.join(BOUNDING_BOX_DIR, filename)))\n",
    "    imageio.mimsave(gif_file, images, duration=0.5)\n",
    "    print(\"Gif saved at {}\".format(gif_file))\n",
    "\n",
    "\n",
    "generate_gif(\n",
    "    result_csv=\"ADL-Rundle-6/det/restults.csv\",\n",
    "    img_file_list=IMG_FILE_LIST,\n",
    "    gif_file=\"ADL-Rundle-6/bounding_boxes.gif\",\n",
    "    nb_frames=10,\n",
    ")"
   ]
  },
  {
   "cell_type": "markdown",
   "metadata": {},
   "source": [
    "## 3 Detection Association\n",
    "Associate the detections to tracks in a greedy manner using IoU/ threshold sigma_iou. A track gets the\n",
    "detection with the highest intersection-over-union to its last known object position (i.e. the previous\n",
    "detection of the track) assigned."
   ]
  },
  {
   "cell_type": "code",
   "execution_count": null,
   "metadata": {},
   "outputs": [],
   "source": []
  },
  {
   "cell_type": "markdown",
   "metadata": {},
   "source": [
    "## 4 Track management\n",
    " Each object can be assigned to only one trajectory (ID)\n",
    " Create and update lists for matches, unmatched detections and unmatched tracks\n",
    " Matches: IoU ≥ sigma_iou -> matched track\n",
    " Unmatched tracks -> delete track\n",
    " Unmatched detection -> create new tracks"
   ]
  }
 ],
 "metadata": {
  "kernelspec": {
   "display_name": "SCIA",
   "language": "python",
   "name": "python3"
  },
  "language_info": {
   "codemirror_mode": {
    "name": "ipython",
    "version": 3
   },
   "file_extension": ".py",
   "mimetype": "text/x-python",
   "name": "python",
   "nbconvert_exporter": "python",
   "pygments_lexer": "ipython3",
   "version": "3.11.4"
  }
 },
 "nbformat": 4,
 "nbformat_minor": 2
}
