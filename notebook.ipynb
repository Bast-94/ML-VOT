{
 "cells": [
  {
   "cell_type": "markdown",
   "metadata": {},
   "source": [
    "# MLVOT: Pratical Work 2"
   ]
  },
  {
   "cell_type": "markdown",
   "metadata": {},
   "source": [
    "**Objective**: Develop a simple IoU-based tracker without using image information. Extend the algorithm to\n",
    "handle multiple object tracking simultaneously."
   ]
  },
  {
   "cell_type": "code",
   "execution_count": 34,
   "metadata": {},
   "outputs": [],
   "source": [
    "DATA_DIR = \"ADL-Rundle-6\"\n",
    "import os\n",
    "import pandas as pd\n",
    "import numpy as np\n",
    "import matplotlib.pyplot as plt\n",
    "import cv2\n",
    "from PIL import Image\n",
    "from tqdm import tqdm\n",
    "import argparse\n",
    "import imageio\n",
    "import itertools\n",
    "from src.iou import BoundingBox, intersection_box, iou\n",
    "import matplotlib.pyplot as plt\n",
    "from matplotlib.patches import Rectangle\n",
    "import random"
   ]
  },
  {
   "cell_type": "code",
   "execution_count": 2,
   "metadata": {},
   "outputs": [],
   "source": [
    "BOUNDING_BOX_DIR = \"ADL-Rundle-6/bounding_boxes\"\n",
    "IMG_DIR = \"ADL-Rundle-6/img1\"\n",
    "IMG_FILE_LIST = sorted(os.listdir(IMG_DIR))"
   ]
  },
  {
   "cell_type": "markdown",
   "metadata": {},
   "source": [
    "## 1 \n",
    "Load detections (det) stored in a MOT-challenge like formatted text file. Each line represents one object\n",
    "instance and contains 10 values (fieldNames = [\\<frame\\>, <id>, <bb_left>, <bb_top>, <bb_width>,\n",
    "<bb_height>, <conf>, <x>, <y>, <z>]\n"
   ]
  },
  {
   "cell_type": "code",
   "execution_count": 3,
   "metadata": {},
   "outputs": [],
   "source": [
    "det_file = (\n",
    "    \"ADL-Rundle-6/det/det.txt\"\n",
    "    if os.path.exists(\"ADL-Rundle-6/det/clean_det.csv\")\n",
    "    else \"ADL-Rundle-6/det/det.txt\"\n",
    ")\n",
    "\n",
    "\n",
    "def load_det_file(det_file):\n",
    "    if not os.path.exists(\"ADL-Rundle-6/det/clean_det.csv\"):\n",
    "        det_df = pd.read_csv(det_file, sep=\",\", header=None)\n",
    "        det_df.columns = [\n",
    "            \"frame\",\n",
    "            \"id\",\n",
    "            \"bb_left\",\n",
    "            \"bb_top\",\n",
    "            \"bb_width\",\n",
    "            \"bb_height\",\n",
    "            \"conf\",\n",
    "            \"x\",\n",
    "            \"y\",\n",
    "            \"z\",\n",
    "        ]\n",
    "        det_df.to_csv(\"ADL-Rundle-6/det/clean_det.csv\", index=False)\n",
    "    else:\n",
    "        det_df = pd.read_csv(\"ADL-Rundle-6/det/clean_det.csv\", sep=\",\", header=0)\n",
    "    return det_df\n",
    "\n",
    "\n",
    "det_df = load_det_file(det_file)"
   ]
  },
  {
   "cell_type": "markdown",
   "metadata": {},
   "source": [
    "## 2 Implement IoU for tracking\n",
    "- Compute similarity score using the Jaccard index (intersection-over-union) for each pair of\n",
    "bounding boxes\n",
    "\n",
    "    Jacard index between 2 bounding boxes is implemented in [this script](./src/iou.py)"
   ]
  },
  {
   "cell_type": "markdown",
   "metadata": {},
   "source": [
    "- Create a similarity matrix that stores the IoU for all boxes"
   ]
  },
  {
   "cell_type": "code",
   "execution_count": 61,
   "metadata": {},
   "outputs": [],
   "source": [
    "def plot_bounding_boxes(bb1: BoundingBox, bb2: BoundingBox, ax: plt.Axes):\n",
    "    \"\"\"\n",
    "    Plots two bounding boxes\n",
    "    :param bb1: bounding box 1\n",
    "    :param bb2: bounding box 2\n",
    "    :return: None\n",
    "    \"\"\"\n",
    "    if ax is None:\n",
    "        fig, ax = plt.subplots(1)\n",
    "\n",
    "    ax.set_xlim(\n",
    "        min(bb1.bb_left, bb2.bb_left) - 10,\n",
    "        max(bb1.bb_left + bb1.bb_width, bb2.bb_left + bb2.bb_width) + 10,\n",
    "    )\n",
    "    ax.set_ylim(\n",
    "        min(bb1.bb_top, bb2.bb_top) - 10,\n",
    "        max(bb1.bb_top + bb1.bb_height, bb2.bb_top + bb2.bb_height) + 10,\n",
    "    )\n",
    "    ax.add_patch(\n",
    "        Rectangle(\n",
    "            (bb1.bb_left, bb1.bb_top),\n",
    "            bb1.bb_width,\n",
    "            bb1.bb_height,\n",
    "            fill=False,\n",
    "            color=\"red\",\n",
    "        )\n",
    "    )\n",
    "    ax.add_patch(\n",
    "        Rectangle(\n",
    "            (bb2.bb_left, bb2.bb_top),\n",
    "            bb2.bb_width,\n",
    "            bb2.bb_height,\n",
    "            fill=False,\n",
    "            color=\"blue\",\n",
    "        )\n",
    "    )\n",
    "    iou_score = iou(bb1, bb2)\n",
    "    bb_intersection = intersection_box(bb1, bb2)\n",
    "    ax.add_patch(\n",
    "        Rectangle(\n",
    "            (bb_intersection.bb_left, bb_intersection.bb_top),\n",
    "            bb_intersection.bb_width,\n",
    "            bb_intersection.bb_height,\n",
    "            fill=True,\n",
    "            color=\"green\",\n",
    "        )\n",
    "    )\n",
    "    ax.set_title(f\"IoU: {iou_score:.2f}\")"
   ]
  },
  {
   "cell_type": "code",
   "execution_count": 69,
   "metadata": {},
   "outputs": [
    {
     "name": "stdout",
     "output_type": "stream",
     "text": [
      "437\n"
     ]
    },
    {
     "data": {
      "text/html": [
       "<div>\n",
       "<style scoped>\n",
       "    .dataframe tbody tr th:only-of-type {\n",
       "        vertical-align: middle;\n",
       "    }\n",
       "\n",
       "    .dataframe tbody tr th {\n",
       "        vertical-align: top;\n",
       "    }\n",
       "\n",
       "    .dataframe thead th {\n",
       "        text-align: right;\n",
       "    }\n",
       "</style>\n",
       "<table border=\"1\" class=\"dataframe\">\n",
       "  <thead>\n",
       "    <tr style=\"text-align: right;\">\n",
       "      <th></th>\n",
       "      <th>4043</th>\n",
       "      <th>4044</th>\n",
       "      <th>4045</th>\n",
       "      <th>4046</th>\n",
       "      <th>4047</th>\n",
       "      <th>4048</th>\n",
       "      <th>4049</th>\n",
       "      <th>4050</th>\n",
       "      <th>4051</th>\n",
       "    </tr>\n",
       "  </thead>\n",
       "  <tbody>\n",
       "    <tr>\n",
       "      <th>4036</th>\n",
       "      <td>1.000000</td>\n",
       "      <td>0.050999</td>\n",
       "      <td>0.312084</td>\n",
       "      <td>0.0</td>\n",
       "      <td>0.0</td>\n",
       "      <td>0.000000</td>\n",
       "      <td>0.473503</td>\n",
       "      <td>0.000000</td>\n",
       "      <td>0.000000</td>\n",
       "    </tr>\n",
       "    <tr>\n",
       "      <th>4037</th>\n",
       "      <td>0.009620</td>\n",
       "      <td>0.843822</td>\n",
       "      <td>0.371107</td>\n",
       "      <td>0.0</td>\n",
       "      <td>0.0</td>\n",
       "      <td>0.000000</td>\n",
       "      <td>0.000000</td>\n",
       "      <td>0.000000</td>\n",
       "      <td>0.000000</td>\n",
       "    </tr>\n",
       "    <tr>\n",
       "      <th>4038</th>\n",
       "      <td>0.312084</td>\n",
       "      <td>0.404700</td>\n",
       "      <td>1.000000</td>\n",
       "      <td>0.0</td>\n",
       "      <td>0.0</td>\n",
       "      <td>0.000000</td>\n",
       "      <td>0.105369</td>\n",
       "      <td>0.000000</td>\n",
       "      <td>0.000000</td>\n",
       "    </tr>\n",
       "    <tr>\n",
       "      <th>4039</th>\n",
       "      <td>0.000000</td>\n",
       "      <td>0.000000</td>\n",
       "      <td>0.000000</td>\n",
       "      <td>0.0</td>\n",
       "      <td>1.0</td>\n",
       "      <td>0.000000</td>\n",
       "      <td>0.000000</td>\n",
       "      <td>0.000000</td>\n",
       "      <td>0.000000</td>\n",
       "    </tr>\n",
       "    <tr>\n",
       "      <th>4040</th>\n",
       "      <td>0.473503</td>\n",
       "      <td>0.000000</td>\n",
       "      <td>0.105807</td>\n",
       "      <td>0.0</td>\n",
       "      <td>0.0</td>\n",
       "      <td>0.000000</td>\n",
       "      <td>0.759516</td>\n",
       "      <td>0.000000</td>\n",
       "      <td>0.000000</td>\n",
       "    </tr>\n",
       "    <tr>\n",
       "      <th>4041</th>\n",
       "      <td>0.000000</td>\n",
       "      <td>0.000000</td>\n",
       "      <td>0.000000</td>\n",
       "      <td>1.0</td>\n",
       "      <td>0.0</td>\n",
       "      <td>0.000000</td>\n",
       "      <td>0.000000</td>\n",
       "      <td>0.163119</td>\n",
       "      <td>0.040621</td>\n",
       "    </tr>\n",
       "    <tr>\n",
       "      <th>4042</th>\n",
       "      <td>0.000000</td>\n",
       "      <td>0.000000</td>\n",
       "      <td>0.000000</td>\n",
       "      <td>0.0</td>\n",
       "      <td>0.0</td>\n",
       "      <td>0.721472</td>\n",
       "      <td>0.000000</td>\n",
       "      <td>0.000000</td>\n",
       "      <td>0.000000</td>\n",
       "    </tr>\n",
       "  </tbody>\n",
       "</table>\n",
       "</div>"
      ],
      "text/plain": [
       "          4043      4044      4045  4046  4047      4048      4049      4050  \\\n",
       "4036  1.000000  0.050999  0.312084   0.0   0.0  0.000000  0.473503  0.000000   \n",
       "4037  0.009620  0.843822  0.371107   0.0   0.0  0.000000  0.000000  0.000000   \n",
       "4038  0.312084  0.404700  1.000000   0.0   0.0  0.000000  0.105369  0.000000   \n",
       "4039  0.000000  0.000000  0.000000   0.0   1.0  0.000000  0.000000  0.000000   \n",
       "4040  0.473503  0.000000  0.105807   0.0   0.0  0.000000  0.759516  0.000000   \n",
       "4041  0.000000  0.000000  0.000000   1.0   0.0  0.000000  0.000000  0.163119   \n",
       "4042  0.000000  0.000000  0.000000   0.0   0.0  0.721472  0.000000  0.000000   \n",
       "\n",
       "          4051  \n",
       "4036  0.000000  \n",
       "4037  0.000000  \n",
       "4038  0.000000  \n",
       "4039  0.000000  \n",
       "4040  0.000000  \n",
       "4041  0.040621  \n",
       "4042  0.000000  "
      ]
     },
     "execution_count": 69,
     "metadata": {},
     "output_type": "execute_result"
    },
    {
     "data": {
      "image/png": "[encoded data removed]",
      "text/plain": [
       "<Figure size 1000x500 with 2 Axes>"
      ]
     },
     "metadata": {},
     "output_type": "display_data"
    }
   ],
   "source": [
    "def similarity_matrix_iou(bb_list1: list[BoundingBox], bb_list2: list[BoundingBox]):\n",
    "    \"\"\"\n",
    "    Computes the similarity matrix between two lists of bounding boxes\n",
    "    :param bb_list1: list of bounding boxes\n",
    "    :param bb_list2: list of bounding boxes\n",
    "    :return: similarity matrix\n",
    "    \"\"\"\n",
    "    sim_matrix = np.zeros((len(bb_list1), len(bb_list2)))\n",
    "    for i, bb1 in enumerate(bb_list1):\n",
    "        for j, bb2 in enumerate(bb_list2):\n",
    "            sim_matrix[i, j] = iou(bb1, bb2)\n",
    "    return sim_matrix\n",
    "\n",
    "\n",
    "n_frame = 437  # np.random.randint(0, det_df[\"frame\"].max())\n",
    "print(n_frame)\n",
    "frame_data = det_df[det_df[\"frame\"] == n_frame]\n",
    "next_frame_data = det_df[det_df[\"frame\"] == n_frame + 1]\n",
    "bb_list1 = [\n",
    "    BoundingBox(*row[[\"bb_left\", \"bb_top\", \"bb_width\", \"bb_height\"]])\n",
    "    for _, row in frame_data.iterrows()\n",
    "]\n",
    "bb_list2 = [\n",
    "    BoundingBox(*row[[\"bb_left\", \"bb_top\", \"bb_width\", \"bb_height\"]])\n",
    "    for _, row in next_frame_data.iterrows()\n",
    "]\n",
    "sim_matrix = similarity_matrix_iou(bb_list1, bb_list2)\n",
    "sim_matrix_df = pd.DataFrame(sim_matrix)\n",
    "sim_matrix_df.index = frame_data.index\n",
    "sim_matrix_df.columns = next_frame_data.index\n",
    "fig, axs = plt.subplots(1, 2, figsize=(10, 5))\n",
    "\n",
    "plot_bounding_boxes(random.choice(bb_list1), random.choice(bb_list2), axs[0])\n",
    "plot_bounding_boxes(random.choice(bb_list1), random.choice(bb_list2), axs[1])\n",
    "\n",
    "sim_matrix_df"
   ]
  },
  {
   "cell_type": "code",
   "execution_count": 76,
   "metadata": {},
   "outputs": [
    {
     "name": "stderr",
     "output_type": "stream",
     "text": [
      "525it [00:01, 328.20it/s]\n"
     ]
    }
   ],
   "source": [
    "def iou_tracking(\n",
    "    det_df,\n",
    "    img_file_list=IMG_FILE_LIST,\n",
    "    threshold=0.5,\n",
    "    csv_file=\"ADL-Rundle-6/det/restults.csv\",\n",
    "):\n",
    "    cur_id = 0\n",
    "    for n_frame, img_file in tqdm(enumerate(img_file_list, start=1)):\n",
    "        frame_data = det_df[det_df[\"frame\"] == n_frame]\n",
    "        next_frame_data = det_df[det_df[\"frame\"] == n_frame + 1]\n",
    "        for i, row1 in enumerate(frame_data.index):\n",
    "            best_iou = 0\n",
    "            for j, row2 in enumerate(next_frame_data.index):\n",
    "                bb1 = BoundingBox(\n",
    "                    frame_data[\"bb_left\"][row1],\n",
    "                    frame_data[\"bb_top\"][row1],\n",
    "                    frame_data[\"bb_width\"][row1],\n",
    "                    frame_data[\"bb_height\"][row1],\n",
    "                )\n",
    "                bb2 = BoundingBox(\n",
    "                    next_frame_data[\"bb_left\"][row2],\n",
    "                    next_frame_data[\"bb_top\"][row2],\n",
    "                    next_frame_data[\"bb_width\"][row2],\n",
    "                    next_frame_data[\"bb_height\"][row2],\n",
    "                )\n",
    "                iou_score = iou(bb1, bb2)\n",
    "\n",
    "                if det_df.loc[row1, \"id\"] == -1:\n",
    "                    det_df.loc[row1, \"id\"] = cur_id\n",
    "                    cur_id += 1\n",
    "                if iou_score >= threshold and iou_score > best_iou:\n",
    "                    det_df.loc[row2, \"id\"] = det_df.loc[row1, \"id\"]\n",
    "\n",
    "    det_df.to_csv(csv_file, index=False)\n",
    "\n",
    "\n",
    "det_df = load_det_file(det_file)\n",
    "iou_tracking(\n",
    "    det_df,\n",
    "    csv_file=\"ADL-Rundle-6/det/restults.csv\",\n",
    "    threshold=0.5,\n",
    "    img_file_list=IMG_FILE_LIST,\n",
    ")"
   ]
  },
  {
   "cell_type": "code",
   "execution_count": 72,
   "metadata": {},
   "outputs": [],
   "source": [
    "def update_gif(opencv_img, row1, bb1, img_file):\n",
    "    cv2.rectangle(\n",
    "        opencv_img,\n",
    "        (int(bb1.bb_left), int(bb1.bb_top)),\n",
    "        (\n",
    "            int(bb1.bb_left + bb1.bb_width),\n",
    "            int(bb1.bb_top + bb1.bb_height),\n",
    "        ),\n",
    "        (0, 0, 255),\n",
    "        2,\n",
    "    )\n",
    "    cv2.putText(\n",
    "        opencv_img,\n",
    "        str(det_df.loc[row1, \"id\"]),\n",
    "        (int(bb1.bb_left), int(bb1.bb_top)),\n",
    "        cv2.FONT_HERSHEY_SIMPLEX,\n",
    "        1,\n",
    "        (0, 0, 255),\n",
    "        2,\n",
    "        cv2.LINE_AA,\n",
    "    )\n",
    "    cv2.imwrite(\n",
    "        os.path.join(BOUNDING_BOX_DIR, img_file),\n",
    "        opencv_img,\n",
    "    )"
   ]
  },
  {
   "cell_type": "code",
   "execution_count": 78,
   "metadata": {},
   "outputs": [
    {
     "name": "stderr",
     "output_type": "stream",
     "text": [
      "50it [00:06,  7.17it/s]\n"
     ]
    },
    {
     "name": "stdout",
     "output_type": "stream",
     "text": [
      "Generating gif...\n"
     ]
    },
    {
     "name": "stderr",
     "output_type": "stream",
     "text": [
      "  0%|          | 0/50 [00:00<?, ?it/s]/tmp/ipykernel_31674/437424129.py:24: DeprecationWarning: Starting with ImageIO v3 the behavior of this function will switch to that of iio.v3.imread. To keep the current behavior (and make this warning disappear) use `import imageio.v2 as imageio` or call `imageio.v2.imread` directly.\n",
      "  images.append(imageio.imread(os.path.join(BOUNDING_BOX_DIR, filename)))\n",
      "100%|██████████| 50/50 [00:00<00:00, 60.72it/s]\n"
     ]
    },
    {
     "name": "stdout",
     "output_type": "stream",
     "text": [
      "Gif saved at ADL-Rundle-6/bounding_boxes.gif\n"
     ]
    }
   ],
   "source": [
    "def generate_gif(\n",
    "    result_csv=\"ADL-Rundle-6/det/restults.csv\",\n",
    "    img_file_list=IMG_FILE_LIST,\n",
    "    gif_file=\"ADL-Rundle-6/bounding_boxes.gif\",\n",
    "    nb_frames=10,\n",
    "):\n",
    "    df = pd.read_csv(result_csv, sep=\",\", header=0)\n",
    "    img_file_list = img_file_list[:nb_frames]\n",
    "    for n_frame, img_file in tqdm(enumerate(img_file_list, start=1)):\n",
    "        res_df = df[df[\"frame\"] == n_frame]\n",
    "        opencv_img = cv2.imread(os.path.join(IMG_DIR, img_file))\n",
    "        for row1 in res_df.index:\n",
    "            bb1 = BoundingBox(\n",
    "                res_df[\"bb_left\"][row1],\n",
    "                res_df[\"bb_top\"][row1],\n",
    "                res_df[\"bb_width\"][row1],\n",
    "                res_df[\"bb_height\"][row1],\n",
    "            )\n",
    "            update_gif(opencv_img, row1, bb1, img_file)\n",
    "    images = []\n",
    "    print(\"Generating gif...\")\n",
    "    bounded_box_files = sorted(os.listdir(BOUNDING_BOX_DIR))[:nb_frames]\n",
    "    for filename in tqdm(bounded_box_files):\n",
    "        images.append(imageio.imread(os.path.join(BOUNDING_BOX_DIR, filename)))\n",
    "    imageio.mimsave(gif_file, images, duration=0.5)\n",
    "    print(\"Gif saved at {}\".format(gif_file))\n",
    "\n",
    "\n",
    "generate_gif(\n",
    "    result_csv=\"ADL-Rundle-6/det/restults.csv\",\n",
    "    img_file_list=IMG_FILE_LIST,\n",
    "    gif_file=\"ADL-Rundle-6/bounding_boxes.gif\",\n",
    "    nb_frames=50,\n",
    ")"
   ]
  },
  {
   "cell_type": "markdown",
   "metadata": {},
   "source": [
    "## 3 Detection Association\n",
    "Associate the detections to tracks in a greedy manner using IoU/ threshold sigma_iou. A track gets the\n",
    "detection with the highest intersection-over-union to its last known object position (i.e. the previous\n",
    "detection of the track) assigned."
   ]
  },
  {
   "cell_type": "code",
   "execution_count": null,
   "metadata": {},
   "outputs": [],
   "source": []
  },
  {
   "cell_type": "markdown",
   "metadata": {},
   "source": [
    "## 4 Track management\n",
    " Each object can be assigned to only one trajectory (ID)\n",
    " Create and update lists for matches, unmatched detections and unmatched tracks\n",
    " Matches: IoU ≥ sigma_iou -> matched track\n",
    " Unmatched tracks -> delete track\n",
    " Unmatched detection -> create new tracks"
   ]
  }
 ],
 "metadata": {
  "kernelspec": {
   "display_name": "SCIA",
   "language": "python",
   "name": "python3"
  },
  "language_info": {
   "codemirror_mode": {
    "name": "ipython",
    "version": 3
   },
   "file_extension": ".py",
   "mimetype": "text/x-python",
   "name": "python",
   "nbconvert_exporter": "python",
   "pygments_lexer": "ipython3",
   "version": "3.11.4"
  }
 },
 "nbformat": 4,
 "nbformat_minor": 2
}
