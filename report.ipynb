{
 "cells": [
  {
   "cell_type": "markdown",
   "metadata": {},
   "source": [
    "# ML-VOT Pratical Work 5"
   ]
  },
  {
   "cell_type": "markdown",
   "metadata": {},
   "source": [
    "In this report we will present imrovements for visual object tracking algorithm."
   ]
  },
  {
   "cell_type": "markdown",
   "metadata": {},
   "source": [
    "## Context \n",
    "\n",
    "Here are previous impovement of visual object tracking, we studied in previous pratical session:\n",
    "\n",
    "- **[Kalman Filter](./src/kalman_filter.py)**: The Kalman filter is commonly used for visual object tracking due to its effectiveness in estimating the state of a dynamic system in the presence of noise and uncertainty. \n",
    "- **[Multi-object IOU Tracker (Bounding-Box Tracker)](./src/tracker.py)** : Simple algorithm with Intersection over union between detection and tracks with greedy matching.\n",
    "- **[Exercise 3: Multi-object IOU Tracker (Bounding-Box Tracker)](./src/hungarian_tracker.py)** : Tracking with Intersection over union with an optimized matching algorithm, called Hungarian Algorithm. It is a way for getting the highest matchings on a similarity matrix between tracks and detections.\n",
    "- **[Exercise 4: Multi-object tracking (Bounding-Box Tracker)](./src/kalman_filter.py)** : Introduction kalman filter by updating the movement of tracks and compute Hungarian algorithm on new positions."
   ]
  },
  {
   "cell_type": "markdown",
   "metadata": {},
   "source": [
    "In this exercise we will extend the exercise 4 tracker by introducing a new criteria in similarity matrix. In previous exercises similarity matrix was based on position and size of bounding boxes, here we will introduce a computer vision feature. To do so we will use neural network by transforming boundingboxes into embeddings. Here are the step for computing similarity between 2 bounding boxes:\n",
    "- Get image crops from boxes\n",
    "- Resize them in a fixed dimension\n",
    "- Transform them into tensor\n",
    "- Compute their emeddings\n",
    "- Apply cosine similarity between embeddings"
   ]
  }
 ],
 "metadata": {
  "language_info": {
   "name": "python"
  }
 },
 "nbformat": 4,
 "nbformat_minor": 2
}
